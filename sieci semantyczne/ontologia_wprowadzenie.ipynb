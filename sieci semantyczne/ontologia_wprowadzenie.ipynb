{
 "cells": [
  {
   "cell_type": "markdown",
   "id": "a5mQo-08Q-_p",
   "metadata": {
    "id": "a5mQo-08Q-_p"
   },
   "source": [
    "# Wprowadznie do sieci semantycznej i ontologii"
   ]
  },
  {
   "cell_type": "markdown",
   "id": "_g8EDH5f4pcj",
   "metadata": {
    "id": "_g8EDH5f4pcj"
   },
   "source": [
    "## Co to jest ontologia?\n",
    " Ontologia jest precyzyjnym opisem sposobu myślenia pewnej grupy ludzi na temat pewnego fragmentu rzeczywistości.\n",
    "\n",
    "Ontologia okazuje się być niezbędna wszędzie tam:\n",
    "- gdzie istnieje podejrzenie wieloznaczności i mętności nazw używanych w standardowej komunikacji w pewnej grupie;\n",
    "- gdzie istnieje potrzeba formułowania i przekazywania wiedzy w sposób precyzyjny\n",
    "- gdzie używa się komputera do przechowywania i wyszukiwania wiedzy;\n",
    "- gdzie istnieje wola dzielenia się wiedzą oraz wymiany wiedzy w Internecie."
   ]
  },
  {
   "cell_type": "markdown",
   "id": "fWPhWX05475j",
   "metadata": {
    "id": "fWPhWX05475j"
   },
   "source": [
    "## Kilka podstawowych rozróżnień i zasad ontologicznych\n",
    "### Nazwy własne a nazwy generalne\n",
    "*Nazwy własne* nazywają tylko indywidua (np. Egipt, Robert Trypuz). Natomiast *nazwy generalne* mogą oznaczać wiele przedmiotów (np. krowa, państwo, rostbef). Tym też nazwom odpowiadają kategorie/klasy/pojęcia w ontologii. Nazwy generalne oznaczają przedmioty ze względu na posiadane przez nie cechy.\n",
    "\n",
    "### Klasy i relacje\n",
    "O klasach można myśleć jako o zbiorach przedmiotów (posiadających pewne cechy). Od tych odróżniamy relacje, czy związki/zależności pomiędzy przedmiotami należącymi  do klas.\n",
    "\n",
    "### Subsumpcja, instancjacja i część\n",
    "Subsumpcja (bycie podklasą) jest relacją pomiędzy dwiema klasami. Powiemy, że klasa przedmiotów A (np. klasa przedmiotów podpadających po nazwę „krowa”) jest podklasą przedmiotów B (np. klasy przedmiotów podpadających po nazwę „zwierzę”) wtedy i tylko wtedy, gdy każdy przedmiot klasy A jest przedmiotem klasy B (tj. gdy każdy przedmiot, który można nazwać zgodnie z prawdą „krowa” można również nazwać zgodnie z prawdą „zwierzę”).\n",
    "\n",
    "Instancjacja (przynależność do klasy) jest relacją pomiędzy przedmiotem i klasą. Powiemy, że przedmiot A (np. zwierze o numerze PL 00 50303 1251) przynależy do klasy B (np. klasy przedmiotów podpadających po nazwę „krowa”) wtedy i tylko wtedy, gdy A posiada cechy jakie przysługują wszystkim przedmiotom tej klasy (tj. zwierze o numerze PL 00 50303 1251 jest a. dorosłą, b. samicą c. bydła domowego).\n",
    "\n",
    "Relacje bycia częścią jest relacją pomiędzy dwoma przedmiotami. Powiemy, że przedmiot A (np. Egipt) jest częścią przedmiotu B (np. Afryka) jeżeli B jest pewną całością, której A jest fragmentem.\n",
    "\n",
    "### Dziedziczenie cech\n",
    "\n",
    "Powiedzieliśmy wcześniej, że tworzymy klasy (pojęcia) z przedmiotów wskazując na cechy tych przedmiotów. Jeśli klasa A jest podklasą klasy przedmiotów B, to wszystkie cechy jakie przysługują przedmiotom klasy A muszą przysługiwać również przedmiotom klasy B. Np. mówiąc, że człowiek jest ssakiem (tj. klasa ludzi jest podklasą klasy ssaków) mamy na myśli, że wszystkie cechy jakie przysługują ssakom (np. stałocieplność) przysługują również ludziom.\n",
    "\n",
    "### Partycypacja\n",
    "\n",
    "Partycypacja (uczestnictwo) jest relacją pomiędzy bytami trwającymi w czasie a bytami „rozciągłymi” w czasie. Np. krowa partycypuje w opasie, człowiek partycypuje w warsztatach ontologicznych.\n",
    "\n",
    "### Ma własność, ma wartość\n",
    "\n",
    "Byty trwające w czasie są zawsze jakieś, tj, mają pewne własności. Jedne cechy tych bytów przysługują im przez cały okres ich życia (np. w przypadku człowieka taką cechą będzie rozumność) a inne są czasowo nabywane i tracone (np. w przypadku człowieka taką cechą może być posiadanie ogromnej fortuny). Niektóre cechy (znane jako cechy ilościowe) mogą też zmieniać swoją „intensywność” (np. masa ciała). Wartość cechy jest zwykle zaczerpnięta z jakiejś miary/przestrzeni metrycznej. Wartość tej samej cechy można wyrazić w różnych miarach.\n",
    "\n",
    "### Zależność\n",
    "Zależność jest relacją pomiędzy bytami trwającymi w czasie lub cechami. Najogólniej można powiedzieć, że A i B zależą od siebie, gdy współwystępują.\n",
    "\n",
    "### Funkcja (rola) i pełnienie funkcji (roli)\n",
    "\n",
    "Cechy relacyjne (funkcje) to takie, których istnienie warunkowane jest przez jakąś relację. Np. pojęcia „ojciec (genetyczny)” i „pasza” są kształtowane przez relacje „poczęcia” czy „bycia pożywieniem jakiegoś zwierzęcia hodowlanego”. "
   ]
  },
  {
   "cell_type": "markdown",
   "id": "65e7b5c0",
   "metadata": {
    "id": "65e7b5c0"
   },
   "source": [
    "## RDF czyli system opisu zasobów\n",
    "\n",
    "<img src=\"https://upload.wikimedia.org/wikipedia/commons/f/f3/Rdf_logo.svg\"\n",
    "     alt=\"RDF logo\" align=\"right\" width=\"100\" height=\"100\"/>\n",
    "     \n",
    "RDF to skrót angielskiej nazyw *Resource Description Framework*, czyli system opisu zasobów. RDF jest jednym ze standardów [W3C](https://www.w3.org/RDF/) przeznaczonym do zapisu informacji/wiedzy w sposób przetwarzalny komputerowo.  \n",
    "Pierwsza wersja standardu RDF została wydana przez W3C w 1997 roku (nota bene, razem z pierwszą specyfikacją języka XML). Standard RDF jest jednym z filarów semantycznego internetu (ang. *Semantic Web*).\n"
   ]
  },
  {
   "cell_type": "markdown",
   "id": "Wj05B8gD3jQ0",
   "metadata": {
    "id": "Wj05B8gD3jQ0"
   },
   "source": [
    "### Trójki\n",
    "\n",
    "Podstawowym założeniem, a nawet ograniczeniem, standardu RDF jest sposób zapisu informacji. Mianowicie, każde stwierdzenie musi składać się z trzech elementów: podmiotu, orzeczenia i dopełnienia, np. \n",
    "- `Ala` (podmiot) `ma` (orzeczenie) `kota` (dopełnienie).\n",
    "- `Jan` (podmiot) `mieszka w` (orzeczenie) `Chełmie` (dopełnienie).\n",
    "\n",
    "Stwierdzenia RDF będą więc zawsze takie postaci:\n",
    "\n",
    "- `(podmiot, orzeczenie, dopełnienie)`\n",
    "\n",
    "Orzeczenie nazywane jest często predykatem i jest relacją łączącą podmiot z dopełnieniem. Dopełnienie może być obiektem lub wartością (literałem):\n",
    "\n",
    "<img src='https://github.com/trypuz/ai_dla_kazdego/blob/main/pliki_yEd/trojki.png?raw=1'>\n",
    "\n",
    "W RDF mówi się, że wszystko jest zasobem (ang. *resource*). Ja jestem zasobem, Twoje życie jest zasobem, dokument tekstowy na dysku jest zasoben, etc. Wszystko. Zasoby do których odnosimy się w trójkach RDF nie muszą być faktycznie ,,czymś'' zapisanym na dysku komputera. URI zasobów nie muszą wskazywać plików – mogą reprezentować dowolne obiekty/byty obecne w świecie rzeczywistym. Również to co utworzymy za pomocą języka RDF jest zasobem!\n",
    "\n",
    "Graf RDF = zbiór trójek RDF\n",
    "\n",
    "```\n",
    " (podmiot_0, predykat_0, obiekt_0),\n",
    " (podmiot_1, predykat_1, obiect_1),\n",
    " ...\n",
    " (podmiot_N, predykat_N, obiekt_N)\n",
    "```"
   ]
  },
  {
   "cell_type": "markdown",
   "id": "cgqFNPh93m1n",
   "metadata": {
    "id": "cgqFNPh93m1n"
   },
   "source": [
    "### Identyfikatory URI\n",
    "\n",
    "Aby móc skonstruować trójkę, która mówi coś o jakimś zasobie, zasób ten musi mieć swój indetyfikator. Dokładnie rzecz ujmując, identyfikator ten mus być adresem URI. URI to skrót od *Uniform Resource Identifier* (ujednolicony identyfikator zasobu). Najczęściej URI jest URL (skrót od *Uniform Resource Locator*), czyli wygląda jak adres strony www: `https://domenta/ścieżka_do_zasobu`. Możesz też usłyszeć, że identyfikatorami zasobów RDF są typu IRI (skrót od ang. *Internationalized Resource Identifier*). IRI to takie URI, w którym mogą pojawić się znaki spoza alfabetu angielskiego, np. znaki specyficzne dla języka polskiego.  \n",
    "\n",
    "W RDF, jeśli chcemy powiedzieć, że Jan lubi Anię lub chcemy wyrazić fakt, że Jan ma 186cm wzrostu, to musimy najpierw stworzyć identyfiaktory dla Jana, Ani oraz predykatów lubi i ma wzrost.\n",
    "\n",
    "<img src='https://github.com/trypuz/ai_dla_kazdego/blob/main/pliki_yEd/trojki_przyklad.png?raw=1'>\n",
    "\n",
    "Pierwszym krokiem tworzenia grafu RDF dla pewnej dziedziny jest przydzielenie pewnego wydzielonego adresu (np. `http://ai.kul.pl/vocab`) jako bazy słownika nazw zasobów.\n",
    "Odnośnik URI zasobu składa się z bazy, po którym następuje znak „/” lub „#” - my będziemy preferować pierwszą opcję - a następnie identyfikator danego fragmentu (np. `http://ai.kul.pl/Jan`). Pamiętaj, że w identyfikatorach URI rozróżniane są małe i duże litery!\n",
    "\n",
    "Identyfikatory URI dla zasobów z powyższego przykładu mogłyby wyglądać ta:\n",
    "\n",
    "- `http://ai.kul.pl/vocab/Jan`\n",
    "- `http://ai.kul.pl/vocab/Ania`\n",
    "- `http://ai.kul.pl/vocab/lubi`\n",
    "- `http://ai.kul.pl/vocab/ma_wzrost`\n",
    "\n",
    "\n",
    "<img src='https://github.com/trypuz/ai_dla_kazdego/blob/main/pliki_yEd/trojki_przyklad_uri.png?raw=1'>\n",
    "\n",
    "URI zasobów RDF nie są też przewidziane do bezpośredniego wykorzystania jak hierłącza (tj. linki na stronach www).\n",
    "\n",
    "Znaczenie danego URI zależy od właściciela domeny (jego pożądane interpretacja jest umowna)."
   ]
  },
  {
   "cell_type": "markdown",
   "id": "h-IBtfUu3qsW",
   "metadata": {
    "id": "h-IBtfUu3qsW"
   },
   "source": [
    "### Węzły anonimowe\n",
    "\n",
    "podmiot i obiekt"
   ]
  },
  {
   "cell_type": "markdown",
   "id": "0133b4ba",
   "metadata": {
    "id": "0133b4ba"
   },
   "source": [
    "## Serializacje"
   ]
  },
  {
   "cell_type": "markdown",
   "id": "VLDC4yyfIJci",
   "metadata": {
    "id": "VLDC4yyfIJci"
   },
   "source": [
    "Graf RDF jest strukturą abstrakcyjną, składa się z wierzchołków i krawędzi. Połączenie dwóch wierzchołków grafu tworzy trójkę. I jak powiedzieliśmy wcześniej, graf RDF można traktować jako zbriór trójek. Jeśli chcemy zapisać taki graf w pliku na dysku, to musimy dokładnie zdefiniować sposób reprezentacji trójek. Ściśle zdefiniowany sposób zapisu grafu RDF do pliku nazywamy jego serializacją. \n",
    "\n",
    "<img src='https://github.com/trypuz/ai_dla_kazdego/blob/main/pliki_yEd/serializacja.png?raw=1'>"
   ]
  },
  {
   "cell_type": "markdown",
   "id": "Soov3jRBH6Ju",
   "metadata": {
    "id": "Soov3jRBH6Ju"
   },
   "source": [
    " RDF/XML, N3, NTriples, N-Quads, Turtle, TriX, RDFa, Microdata i JSON-LD"
   ]
  },
  {
   "cell_type": "markdown",
   "id": "C2gNaYMhOaTb",
   "metadata": {
    "id": "C2gNaYMhOaTb"
   },
   "source": [
    "### Turtle\n",
    "https://www.w3.org/TR/2014/REC-turtle-20140225/\n",
    "\n",
    "\n",
    "`<http://ai.kul.pl/vocab/Jan> <http://ai.kul.pl/vocab/lubi> <http://ai.kul.pl/vocab/Ania> .`\n",
    "\n",
    "`@prefix`\n",
    "\n",
    "`http://www.w3.org/1999/02/22-rdf-syntax-ns#`\n",
    "\n",
    "`@base`\n",
    "\n",
    "`rdf:type` `a`\n",
    "\n",
    "`rdf:Property`a\n",
    "\n"
   ]
  }
 ],
 "metadata": {
  "colab": {
   "name": "ontologia_wprowadzenie.ipynb",
   "provenance": [],
   "toc_visible": true
  },
  "kernelspec": {
   "display_name": "Python 3",
   "language": "python",
   "name": "python3"
  },
  "language_info": {
   "codemirror_mode": {
    "name": "ipython",
    "version": 3
   },
   "file_extension": ".py",
   "mimetype": "text/x-python",
   "name": "python",
   "nbconvert_exporter": "python",
   "pygments_lexer": "ipython3",
   "version": "3.8.8"
  }
 },
 "nbformat": 4,
 "nbformat_minor": 5
}
