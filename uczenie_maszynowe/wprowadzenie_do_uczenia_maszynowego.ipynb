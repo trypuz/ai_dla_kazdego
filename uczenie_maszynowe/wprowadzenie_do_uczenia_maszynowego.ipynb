{
 "cells": [
  {
   "cell_type": "markdown",
   "id": "652ecdd4",
   "metadata": {},
   "source": [
    "# Wprowadzenie do uczenia maszynowego"
   ]
  },
  {
   "cell_type": "markdown",
   "id": "bfe28600",
   "metadata": {},
   "source": []
  },
  {
   "cell_type": "markdown",
   "id": "68db9325",
   "metadata": {},
   "source": [
    "## Uczenie nadzorowane & nienadzorowane"
   ]
  },
  {
   "cell_type": "markdown",
   "id": "b49ba23f",
   "metadata": {},
   "source": [
    "W uczeniu nadzorowanym (aka uczeniu z nauczycielem) mamy wejście X, które jest wektorem cech opisujących dany obiekt, oraz wyjście y. Wyjście może być różnie zdefiniowane.\n",
    "\n",
    "|    \t|                     X                     \t|                     y                    \t|\n",
    "|:--:\t|:-----------------------------------------:\t|:----------------------------------------:\t|\n",
    "| 1. \t|          cechy opisujące działki          \t|                   cena                   \t|\n",
    "| 2. \t|                 plik audio                \t|            transkrypcja tekstu           \t|\n",
    "| 3. \t|                tekst polski               \t|          tłumaczenie angielskie          \t|\n",
    "| 4. \t|        dane o użytkowniku, reklama        \t|       1 - kliknie, 0 - nie kliknie       \t|\n",
    "| 5. \t|               treści emaila               \t|         1 - spam, 0 - brak spamu         \t|\n",
    "| 6. \t|          obraz z kamery telefonu          \t| 1 - odblokowanie, 0 - blokada            \t|\n",
    "| 7. \t| obraz produktu <br>z kamery przemysłowej  \t| 1 - brak defektu, 0 - defekt             \t|\n",
    "| 8. \t|   tekst komentarza dotyczący<br>produktu  \t| 1 - ocena pozytywna, 0 - ocena negatywna \t|"
   ]
  },
  {
   "cell_type": "markdown",
   "id": "ae97e7af",
   "metadata": {},
   "source": [
    "## Dane strukturalne i niestrukturalne"
   ]
  },
  {
   "cell_type": "markdown",
   "id": "40b94154",
   "metadata": {},
   "source": [
    "Dane strukturalne to w zasadzie dane tabelaryczne, czyli bazy danych, arkusze kalkulacyjne, itp.\n",
    "\n",
    "Dane niestrukturalne (nieustrukturyzowane) to obrazy, tekst oraz dzwięk."
   ]
  },
  {
   "cell_type": "markdown",
   "id": "9e628d5b",
   "metadata": {},
   "source": [
    "## Uczenie maszynowe płytkie i głębokie\n",
    "\n",
    "Sztuczna inteligencja to narzędzia i algorytmy, które automatyzują procesy myślowe wykonywane przez ludzi. \n",
    "\n",
    "Uczenie maszynowe...\n",
    "\n",
    "<img src=\"../pliki_yEd/ai_ml_dl.png\" style=\"height:300px;\">\n",
    "\n",
    "### Płytkie uczenie maszynowe\n",
    "\n",
    "... [Introduction to Shallow Machine Learning](https://www.linkedin.com/pulse/introduction-shallow-machine-learning-ayman-mahmoud/)\n",
    "\n",
    "### Głębokie uczenie maszynowe\n",
    "\n",
    "Głębokie ucznie maszynowe opiera się na sztucznych sieciach neuronowych (ang. *Artificial Neural Network*). Dziś w zasadzie zamiennie używa się terminów głęboka sieć neuronowa i sieć neuronowa. Podstawowym elementem sieci neuronowej jest sztuczny neuron, którego zadaniem jest znalezienie odpowiedniej funkcji odwzorowującej wejście $X$ na wyjście $y$.\n",
    "\n",
    "<img src=\"../pliki_yEd/neuron.png\" style=\"height:100px;\">\n",
    "\n",
    "Sieć neuronowa to połączenie takich prostych neuronów:\n",
    "\n",
    "<img src=\"../pliki_yEd/siec_neuronowa.png\" style=\"height:400px;\">\n",
    "\n",
    "Można widzieć sieć neuronową jako \"black box\", której celem jest odwzorowanie wejścia $X$ na wyjęcie $y$.\n",
    "\n",
    "<img src=\"../pliki_yEd/siec_neuronowa2.png\" style=\"height:200px;\">\n",
    "\n",
    "$X$ może być dowolnym wektorem cech postaci numerycznej. Podobnie $y$, również musi być postaci liczbowej, np. $1$ będzie symbolizować popyt, a $0$ brak popytu.\n",
    "\n",
    "Zbiory treniongowy i testowy..."
   ]
  },
  {
   "cell_type": "markdown",
   "id": "250fa96f",
   "metadata": {},
   "source": [
    "## Powody szerokich zastosowań uczenia głębokiego od drugiej dekady XXI"
   ]
  },
  {
   "cell_type": "markdown",
   "id": "07a7766d",
   "metadata": {},
   "source": [
    "### Dane"
   ]
  },
  {
   "cell_type": "markdown",
   "id": "c28caf7f",
   "metadata": {},
   "source": [
    "### Sprzęt"
   ]
  },
  {
   "cell_type": "markdown",
   "id": "a8fb0c02",
   "metadata": {},
   "source": [
    "### Algorytmy i efekt skali\n",
    "\n",
    "Okazało się, że metody płytkiego uczenia maszynowego nie dają istotnie lepszych rezulatów wraz ze wzrostem ilości danych uczących. Głębokie uczenie maszynowe prawie zawsze daje lepsze rezultaty wraz ze wzrostem ilości danych uczących."
   ]
  },
  {
   "cell_type": "markdown",
   "id": "594540d1",
   "metadata": {},
   "source": [
    "### Ogromne inwestycje gigantów IT"
   ]
  },
  {
   "cell_type": "markdown",
   "id": "2f876a8f",
   "metadata": {},
   "source": [
    "### Otwarte narzędzia"
   ]
  },
  {
   "cell_type": "markdown",
   "id": "6674aa80",
   "metadata": {},
   "source": [
    "## Bibliografia\n",
    "- [DeepLearning.ai](https://www.deeplearning.ai/courses/)\n",
    "- [Introduction to Shallow Machine Learning](https://www.linkedin.com/pulse/introduction-shallow-machine-learning-ayman-mahmoud/)\n",
    "- Francois Chollet, Deep Learning with Python (first and second editions)"
   ]
  },
  {
   "cell_type": "code",
   "execution_count": null,
   "id": "0ca0cb2d",
   "metadata": {},
   "outputs": [],
   "source": []
  },
  {
   "cell_type": "code",
   "execution_count": null,
   "id": "e2895cc0",
   "metadata": {},
   "outputs": [],
   "source": []
  }
 ],
 "metadata": {
  "kernelspec": {
   "display_name": "Python 3",
   "language": "python",
   "name": "python3"
  },
  "language_info": {
   "codemirror_mode": {
    "name": "ipython",
    "version": 3
   },
   "file_extension": ".py",
   "mimetype": "text/x-python",
   "name": "python",
   "nbconvert_exporter": "python",
   "pygments_lexer": "ipython3",
   "version": "3.8.8"
  }
 },
 "nbformat": 4,
 "nbformat_minor": 5
}
