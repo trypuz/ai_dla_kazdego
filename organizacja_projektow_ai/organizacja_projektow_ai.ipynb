{
 "cells": [
  {
   "cell_type": "markdown",
   "id": "1474272f",
   "metadata": {},
   "source": [
    "# AI w firmie"
   ]
  },
  {
   "cell_type": "markdown",
   "id": "80155f0f",
   "metadata": {},
   "source": [
    "W [AI Transformation Playbook](https://landing.ai/wp-content/uploads/2020/05/LandingAI_Transformation_Playbook_11-19.pdf), How to lead your company into the AI era,\n",
    " znajdujemy instrukcję, 5 kroków, które należy wykonać, aby zmianić firmę w firmę stosującą, a może nawet oferującą, rozwiązania AI:\n",
    "\n",
    "1. Wykonaj projekt pilotażowy, aby nabrać rozpędu (ang. *Execute pilot projects to gain momentum*)\n",
    "    - ważne, aby odnieść mały sukces na początku; można zrobić małą rzecz\n",
    "    - zrobić coś co można ukończyć w 6-12 miesięcy\n",
    "    - można zlecić na zawenątrz\n",
    "2. Zbuduj zespół AI wewnątrz firmy (ang. *Build an in-house AI team*)\n",
    "    - połączyć zespół z innymi zespołami\n",
    "    - zespół może podlegać bezpośrednio CTO, CIO, CDO lub można powołać CAIO\n",
    "    - team AI powinien mieć swój budżet na początku, ale z czasem musi pokazać swoją wartość\n",
    "3. Zapewnij szerokie szkolenia AI (zespołowi AI, ale również menadżerom) (ang. *Provide broad AI training*)\n",
    "    - executives i senior business leaders - wiedza czym jest AI i jakie znaczenie może mieć w firmie, strategia AI, alokacja środków (~4h)\n",
    "    - liderzy projektów AI - ocena biznesowa i techniczna wykonalności projektów AI, alokacja środków, monitoriwanie postępów (~12h)\n",
    "    - stażyści, przyszli inżynierowie AI - jak budować i wypuszczaś produkty AI, jak pozyskiwać dane, wykonywać projekty AI\n",
    "4. Zdefiniuj strategię AI twojej firmy (ang. *Develop an AI strategy*)\n",
    "    - nie budujemy strategii na początku, bo nie znamy jeszcze możliwości AI, nie czujemy tego\n",
    "    - jak wykorzystać AI, aby zyskać przewagę w firmie\n",
    "    - utworzyć strategię zgodną z *Virtuous Cycle of AI*: **lepszy produkt -> więcej użytkowników -> więcej danych -> lepszy produkt**\n",
    "    - utworzyć strategię dot. danych\n",
    "        - jak pozyskiwać dane\n",
    "        - łączenie danych (unifier data warehouse)\n",
    "    - jak połączyć AI z istniejącymi rozwiązaniami\n",
    "    - zastanowić się w jaki sposób AI może ulepszyć istniejące strategie (zwiąkszyć sprzedawalność, zmniejszyć koszty, etc)\n",
    "        \n",
    "5. Wypracuj komunikację wewnętrzną i zewnętrzną (ang. *Develop internal and external communications*)\n",
    "    - komunikacja z inwesrorami\n",
    "    - konunikacja z administracją rządową\n",
    "    - edukacja użytkowników\n",
    "    - rekrutacja\n",
    "    - konunikacja wewnątrz firmy; wyjaśnianie możliwości, rozwiewanie lęków"
   ]
  },
  {
   "cell_type": "markdown",
   "id": "c6bdc208",
   "metadata": {},
   "source": [
    "## Jakie projekty AI mają szansę powodzenia?"
   ]
  },
  {
   "cell_type": "markdown",
   "id": "76310d1c",
   "metadata": {},
   "source": [
    "1. Andrew Ng wprowadził regułę mówiącą, że jeśli jakieś **zadanie zajmuje mniej niż 1 sekundę twojego myślenia**, to jest duże prawdopodobieństwo, że zostanie ono wcześniej czy później zautomatyzowane przez AI. Na przykład, rozpoznanie, czy e-mail jest spamem, zrozumienie, co ktoś do nas mówi, sprawdzenie, czy nasz smartfon nie jest uszkodzony mechanicznie, zrozumienie intencji użytkownika na podstawie tego co napisał (w ograniczonym zakresie), itp. \n",
    "\n",
    "2. **Duża ilość danych**, gdzie mamy wyraźnie określone wejście X i wyjście y, daje szansę na sukces (choć go nie gwarantuje). To różnica w uczeniu się maszyny i człowieka. \n",
    "\n",
    "AI może mieć duże problemy, gdy będziemy starać się nauczyć AI zadania skomplikowanego dodatkowo mając niewiele danych (na przykład dla danego paragrafu tekstu rozpoznanie czy zawiera on definicję czy nie). Człowiek na podstawie kilku zdjęć potrafi zrozumieć pewne zjawisko (np. jak wygląda zapalenie płuc an zdjęciu rendgenowskim) podczas, gdy maszyna potrzebuje około 10 tysięcy zdjęć.\n",
    "\n",
    "Dodatkowo AI może mieć problemy, gdy dane treningowe będą różnić się od danych na których model ma ostatecznie pracować (np. zdjęcia będą inaczej naświetlone, będą miały zakłócenia lub będą robione pod innym kątem). Człowiek poradziłby sobie z tym problemem lepiej niż maszyna."
   ]
  },
  {
   "cell_type": "markdown",
   "id": "0cadba04",
   "metadata": {},
   "source": [
    "### W jaki sposób zrozumieć, czy projekt ma szanse powodzenia?\n",
    "\n",
    "1. Ocena technicznej wykonalności + ocena sensowności biznesowej. Ważny jest dialog pomiędzy ekspertem AI oraz ekspertem dziedzinowym. \n",
    "    - Ekspert AI powinien wyłożyć jakie są dziś możliwości AI\n",
    "    - Ekspert dziedzinowy powinien opowiedzieć o swojej dziedzinie i jakiego typu automatyzacja przyniosłaby wartość biznsową.\n",
    "2. Skupić na automatyzacji zadań/działań niż stanowisk pracy\n",
    "3. Zastanowić się jakie są głóne siły napędowe biznesu i jego bolączki; to mogą być dobre miejsca na AI\n",
    "4. Duża ilość danych może być dobrym punktem startu, ale nie zawsze trzeba czekać z rozpoczęciem projektu AI, gdy będziemy meić dużo danych. Można uzyskać wyniki na niewielkich zbiorach danych."
   ]
  },
  {
   "cell_type": "markdown",
   "id": "745c0d78",
   "metadata": {},
   "source": [
    "### Jak sprawdzić, czy projekt AI jest wart rozpoczęcia\n",
    "\n",
    "Ocena wykonalności technicznej\n",
    "- czy system AI będzie wstanie osiągnąć oczykiwane rezulaty\n",
    "- jak wiele danych potrzeba i czy jest szansa na pozyskanie tych danych\n",
    "- analiza ram czasowych\n",
    "\n",
    "Ocena biznesowa\n",
    "- czy AI obniży koszty np. poprzez automatyzację niektórych zadań\n",
    "- czy AI zwiększy przychody\n",
    "- AI urochomi nowy produkt lub serwis\n",
    "\n",
    "Ocena etyczna\n",
    "- ..."
   ]
  },
  {
   "cell_type": "markdown",
   "id": "3b0be20d",
   "metadata": {},
   "source": [
    "### Kryteria powodzenia projektu\n",
    "\n",
    "- dokładność w procentach, np. 99%; lub bardziej złożone miary jak czas odpowiedzi w relacji do dokładności; albo porównanie z eksperarmi dziedzinowymi\n",
    "    - zbiór testowy, aby móc ocenić\n",
    "    - nigdy nie oczekuj 100% (bo za mało danych, bo szum w danych)"
   ]
  },
  {
   "cell_type": "markdown",
   "id": "02b4d90d",
   "metadata": {},
   "source": [
    "## Etapy projektu AI"
   ]
  },
  {
   "cell_type": "markdown",
   "id": "861133af",
   "metadata": {},
   "source": [
    "1. Zbieranie/pozyskiwanie danych (obrazów, plików dzwiękowych, tekstu, etc)\n",
    "2. Trenowanie modelu \n",
    "    - w procesie iteracyjnym do momentu, aż zostaną uzyskane oczekiwane wyniki\n",
    "3. Wdrożenie modelu\n",
    "4. Analiza wyników\n",
    "    - jeśli po wrożeniu nie jest utrzymamy zadawalający poziom, należy powrócić do danych, dokonać analizy, ew. zmian i/lub uzupełnień, i na nowo dokonać treniongu modelu."
   ]
  },
  {
   "cell_type": "markdown",
   "id": "7d68505d",
   "metadata": {},
   "source": [
    "## Członkowie zespołu AI\n",
    "\n",
    "- Software Engineer - do zadań typowych IT\n",
    "- Machine Learning Engineer - tworzenie algorytmów ML, uczenie\n",
    "- Machine Learning Researcher - analiza literatury i nowinek\n",
    "- Applied Machine Learning Scientist - łączy dwie powyższe funkcje\n",
    "- Data Scientist - analiza danych, wydobywanie wiedzy z danych, tworzenie prezentacji\n",
    "- Date Engineer - organizacja danych, ich bezpieczeństwo i łatwy dostęp\n",
    "- AI Product Manager - decyduje co jest wykonalne, co mamy tworzyć i co ma wartość dla firmy"
   ]
  },
  {
   "cell_type": "markdown",
   "id": "76e04ba2",
   "metadata": {},
   "source": [
    "## Bibliografia\n",
    "\n",
    "- [AI Transformation Playbook](https://landing.ai/wp-content/uploads/2020/05/LandingAI_Transformation_Playbook_11-19.pdf)\n",
    "- [DeepLearning.ai](https://www.deeplearning.ai/courses/)"
   ]
  },
  {
   "cell_type": "code",
   "execution_count": null,
   "id": "b88122e4",
   "metadata": {},
   "outputs": [],
   "source": []
  }
 ],
 "metadata": {
  "kernelspec": {
   "display_name": "Python 3",
   "language": "python",
   "name": "python3"
  },
  "language_info": {
   "codemirror_mode": {
    "name": "ipython",
    "version": 3
   },
   "file_extension": ".py",
   "mimetype": "text/x-python",
   "name": "python",
   "nbconvert_exporter": "python",
   "pygments_lexer": "ipython3",
   "version": "3.8.8"
  }
 },
 "nbformat": 4,
 "nbformat_minor": 5
}
