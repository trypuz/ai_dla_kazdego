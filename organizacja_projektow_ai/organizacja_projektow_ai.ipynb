{
 "cells": [
  {
   "cell_type": "markdown",
   "id": "1474272f",
   "metadata": {},
   "source": [
    "# AI w firmie"
   ]
  },
  {
   "cell_type": "markdown",
   "id": "80155f0f",
   "metadata": {},
   "source": [
    "W [AI Transformation Playbook](https://landing.ai/wp-content/uploads/2020/05/LandingAI_Transformation_Playbook_11-19.pdf), How to lead your company into the AI era,\n",
    " znajdujemy instrukcję, 5 kroków, które należy wykonać, aby zmianić firmę w firmę stosującą, a może nawet oferującą, rozwiązania AI:\n",
    "\n",
    "1. Wykonaj projekt pilotażowy, aby nabrać rozpędu (ang. *Execute pilot projects to gain momentum*)\n",
    "2. Zbuduj zespół AI wewnątrz firmy (ang. *Build an in-house AI team*)\n",
    "3. Zapewnij szerokie szkolenia AI (zespołowi AI, ale również menadżerom) (ang. *Provide broad AI training*)\n",
    "4. Zdefiniuj strategię AI twojej firmy (ang. *Develop an AI strategy*)\n",
    "5. Wypracuj komunikację wewnętrzną i zewnętrzną (ang. *Develop internal and external communications*)"
   ]
  },
  {
   "cell_type": "markdown",
   "id": "02b4d90d",
   "metadata": {},
   "source": [
    "## "
   ]
  },
  {
   "cell_type": "markdown",
   "id": "76e04ba2",
   "metadata": {},
   "source": [
    "## Bibliografia\n",
    "\n",
    "- [AI Transformation Playbook](https://landing.ai/wp-content/uploads/2020/05/LandingAI_Transformation_Playbook_11-19.pdf)\n",
    "- [DeepLearning.ai](https://www.deeplearning.ai/courses/)"
   ]
  },
  {
   "cell_type": "code",
   "execution_count": null,
   "id": "b88122e4",
   "metadata": {},
   "outputs": [],
   "source": []
  }
 ],
 "metadata": {
  "kernelspec": {
   "display_name": "Python 3",
   "language": "python",
   "name": "python3"
  },
  "language_info": {
   "codemirror_mode": {
    "name": "ipython",
    "version": 3
   },
   "file_extension": ".py",
   "mimetype": "text/x-python",
   "name": "python",
   "nbconvert_exporter": "python",
   "pygments_lexer": "ipython3",
   "version": "3.8.8"
  }
 },
 "nbformat": 4,
 "nbformat_minor": 5
}
